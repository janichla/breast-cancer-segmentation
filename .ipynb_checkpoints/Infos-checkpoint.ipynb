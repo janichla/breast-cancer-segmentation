{
 "cells": [
  {
   "cell_type": "markdown",
   "id": "fa98a8ad-9326-4104-b26c-44f70b1cb530",
   "metadata": {},
   "source": [
    "### Informationen aus der ReadMe:\n",
    "- Masken sind png-Bilder: Pixelwerte definieren Klassenzugehörigkeit\n",
    "- TCGA-Folien\n",
    "- 0 Pixel: außerhalb der ROI (“don’t care” class) --> sollten keine Gewichtung beim Modelltraining bekommen, weil sie KEINE andere Klasse repräsentieren\n",
    "- MPP: microns per pixel -> gibt an, wie viele Mikrometer ein einzelnes Pixel im digitalen Bild repräsentiert\n",
    "  -> Download hier in 0.25 µm/Pixel (hochauflösendes Bild)\n",
    "- MAG (Magnification): steht für die Vergrößerung (Magnification), mit der ein Bild aufgenommen wurde\n",
    "- Informationen zu Regionen von Interesse (ROIs):\n",
    "  --> TCGA-ID: eindeutige ID, die auf eine bestimmte histologische Probe aus dem TCGA-Projekt verweist\n",
    "  --> xmin, ymin, xmax, ymax: Koordinaten der Bounding Box, die die ROI innerhalb eines größeren Bildes beschreibt:\n",
    "- alle Slides mit 20x oder 40x Vergrößerung"
   ]
  },
  {
   "cell_type": "markdown",
   "id": "4b78ac11-d1a4-40ca-82cf-5b8f14444bd9",
   "metadata": {},
   "source": [
    "### Pixelcode für die Klassenzugehörigkeit:  \n",
    "label\tGT_code  \n",
    "outside_roi\t0  \n",
    "tumor\t1  \n",
    "stroma\t2  \n",
    "lymphocytic_infiltrate\t3  \n",
    "necrosis_or_debris\t4  \n",
    "glandular_secretions\t5  \n",
    "blood\t6  \n",
    "exclude\t7  \n",
    "metaplasia_NOS\t8  \n",
    "fat\t9  \n",
    "plasma_cells\t10  \n",
    "other_immune_infiltrate\t11  \n",
    "mucoid_material\t12  \n",
    "normal_acinus_or_duct\t13  \n",
    "lymphatics\t14  \n",
    "undetermined\t15  \n",
    "nerve\t16   \n",
    "skin_adnexa\t17  \n",
    "blood_vessel\t18  \n",
    "angioinvasion\t19  \n",
    "dcis\t20  \n",
    "other\t21  "
   ]
  },
  {
   "cell_type": "markdown",
   "id": "747ebc8d-a120-4786-a9aa-e42227ab51ea",
   "metadata": {},
   "source": [
    "### Zusammenfassung des Papers\n",
    "__Introduction__\n",
    "- präzise Segmentierung von Geweberegionen in histologischen Bildern ist anspruchsvoll\n",
    "- besonders anspruchsvoll ist die semantische Segmentierung, bei der jedes Pixel einer Klasse zugeordnet wird, aufgrund der notwendigen vollständigen Bildannotation\n",
    "- vielversprechende Ergebnisse von Deep-Learning-Methoden in der Bildsegmentierung --> benötigt jedoch umfangreiche Trainingsdatensätze\n",
    "- Erstellung solcher annotierten histologischen Datensätze ist schwierig -> Expertenannotationsprozesse sind zeitaufwendig und kostenintensiv\n",
    "- Techniken wie Datenaugmentation (Farb- und Kontrastvariationen) evtl hilfreich\n",
    "- Crowdsourcing als Lösung\n",
    "- triple-negativer Brustkrebs (TNBC) --> schwierige Annotationen\n",
    "\n",
    "__Methoden__\n",
    "- 151 Hämatoxylin- und Eosin-gefärbten Ganzschnittbildern (Whole Slide Images, WSIs) von histologisch bestätigten Brustkrebsfällen aus Cancer Genome Atlas\n",
    "- für jedes Bild wurde ein repräsentativer Bereich (Region of Interest, ROI) ausgewählt, der typische Gewebeklassen und Texturen darstellt (durchschnittlich 1,18 mm²)\n",
    "- Rekrutierung: über soziale Netzwerke (z. B. Facebook, LinkedIn), darunter 20 Medizinstudenten, 3 junge Pathologen (JPs) und 2 erfahrene Pathologen (SPs)\n",
    "- Annotationen wurden mit der Open-Source-Plattform \"Digital Slide Archive\" (DSA) durchgeführt\n",
    "\n",
    "__Results__\n",
    "- Anzahl der Annotationen pro ROI variierte zwischen 11 und 541, wobei mehr als 71 % den dominanten Klassen zugeordnet wurden\n",
    "- Segmentierungsmodelle zeigten ähnliche Genauigkeiten, unabhängig davon, ob sie mit NP- oder SP-Annotationen trainiert wurden\n",
    "- vollständig trainierte Modelle zeigten eine hohe Übereinstimmung mit menschlichen Annotationen und waren oft detaillierter\n",
    "- Fehler traten bei seltenen oder gemischten Mustern auf\n",
    "- bei Verwendung aller Trainingsdaten wurde ein AUC-Wert von über 0,95"
   ]
  }
 ],
 "metadata": {
  "kernelspec": {
   "display_name": "Python 3 (ipykernel)",
   "language": "python",
   "name": "python3"
  },
  "language_info": {
   "codemirror_mode": {
    "name": "ipython",
    "version": 3
   },
   "file_extension": ".py",
   "mimetype": "text/x-python",
   "name": "python",
   "nbconvert_exporter": "python",
   "pygments_lexer": "ipython3",
   "version": "3.11.0rc1"
  }
 },
 "nbformat": 4,
 "nbformat_minor": 5
}
